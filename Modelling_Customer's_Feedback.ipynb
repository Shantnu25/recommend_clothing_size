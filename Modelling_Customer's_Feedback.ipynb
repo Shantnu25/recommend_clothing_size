{
  "nbformat": 4,
  "nbformat_minor": 0,
  "metadata": {
    "kernelspec": {
      "display_name": "Python 3",
      "language": "python",
      "name": "python3"
    },
    "language_info": {
      "codemirror_mode": {
        "name": "ipython",
        "version": 3
      },
      "file_extension": ".py",
      "mimetype": "text/x-python",
      "name": "python",
      "nbconvert_exporter": "python",
      "pygments_lexer": "ipython3",
      "version": "3.7.3"
    },
    "colab": {
      "name": "Modelling_Customer's_Feedback.ipynb",
      "provenance": []
    }
  },
  "cells": [
    {
      "cell_type": "code",
      "metadata": {
        "colab": {
          "base_uri": "https://localhost:8080/"
        },
        "id": "UZNHxJsla51d",
        "outputId": "32f932eb-fec3-4435-95b7-44e331badc2b"
      },
      "source": [
        "#Using Goole Colab : Mounting google drive\n",
        "from google.colab import drive\n",
        "drive.mount('/content/drive')\n"
      ],
      "execution_count": 240,
      "outputs": [
        {
          "output_type": "stream",
          "text": [
            "Drive already mounted at /content/drive; to attempt to forcibly remount, call drive.mount(\"/content/drive\", force_remount=True).\n"
          ],
          "name": "stdout"
        }
      ]
    },
    {
      "cell_type": "code",
      "metadata": {
        "id": "7oeQ-QlDauTX"
      },
      "source": [
        "# import the modules\n",
        "import pandas as pd\n",
        "import numpy as np\n",
        "import matplotlib.pyplot as plt\n",
        "import seaborn as sns\n",
        "pd.set_option('display.max_columns',None)\n",
        "\n",
        "\n",
        "from sklearn.model_selection import GridSearchCV, RandomizedSearchCV, StratifiedKFold\n",
        "from sklearn.preprocessing import LabelEncoder\n",
        "from sklearn.tree import DecisionTreeClassifier\n",
        "from sklearn.metrics import roc_auc_score ,mean_squared_error,accuracy_score,classification_report,roc_curve,confusion_matrix\n",
        "from sklearn.model_selection import train_test_split\n",
        "from sklearn import metrics\n",
        "from sklearn.tree import plot_tree\n",
        "\n",
        "import warnings\n",
        "warnings.filterwarnings('ignore')"
      ],
      "execution_count": 241,
      "outputs": []
    },
    {
      "cell_type": "markdown",
      "metadata": {
        "id": "FGlmiRgMbUeS"
      },
      "source": [
        "##Problem Statement\n",
        "To predict customer satisfaction.\n",
        "\n",
        "The dataset contains information regarding clothes.\n",
        "Each observation is a different fitting size with various features.\n",
        "\n",
        "```\n",
        "Product size recommendation and fit prediction are critical in order to improve customers’ shopping experiences and to reduce product return rates.\n",
        "However, modeling customers’ fit feedback is challenging due to its subtle semantics,\n",
        "arising from the subjective evaluation of products and imbalanced label distribution (most of the feedbacks is \"Fit\").\n",
        "```"
      ]
    },
    {
      "cell_type": "code",
      "metadata": {
        "colab": {
          "base_uri": "https://localhost:8080/",
          "height": 394
        },
        "id": "dTVf3hWbb8bj",
        "outputId": "c149642e-7e64-4abb-8626-c750196ead88"
      },
      "source": [
        "#Feature Description\n",
        "feat_desc=pd.read_excel('/content/drive/MyDrive/Modelling_Customer_Feedback_Product_Recommendation/Modelling_Customer_Feedback_Data_Dictionary.xlsx')\n",
        "feat_desc"
      ],
      "execution_count": 242,
      "outputs": [
        {
          "output_type": "execute_result",
          "data": {
            "text/html": [
              "<div>\n",
              "<style scoped>\n",
              "    .dataframe tbody tr th:only-of-type {\n",
              "        vertical-align: middle;\n",
              "    }\n",
              "\n",
              "    .dataframe tbody tr th {\n",
              "        vertical-align: top;\n",
              "    }\n",
              "\n",
              "    .dataframe thead th {\n",
              "        text-align: right;\n",
              "    }\n",
              "</style>\n",
              "<table border=\"1\" class=\"dataframe\">\n",
              "  <thead>\n",
              "    <tr style=\"text-align: right;\">\n",
              "      <th></th>\n",
              "      <th>Feature</th>\n",
              "      <th>Description</th>\n",
              "    </tr>\n",
              "  </thead>\n",
              "  <tbody>\n",
              "    <tr>\n",
              "      <th>0</th>\n",
              "      <td>bra_size</td>\n",
              "      <td>integer value</td>\n",
              "    </tr>\n",
              "    <tr>\n",
              "      <th>1</th>\n",
              "      <td>category</td>\n",
              "      <td>In which category clothes belong</td>\n",
              "    </tr>\n",
              "    <tr>\n",
              "      <th>2</th>\n",
              "      <td>cup_size</td>\n",
              "      <td>size of the cloth</td>\n",
              "    </tr>\n",
              "    <tr>\n",
              "      <th>3</th>\n",
              "      <td>fit</td>\n",
              "      <td>Target variable (fit/large/small)</td>\n",
              "    </tr>\n",
              "    <tr>\n",
              "      <th>4</th>\n",
              "      <td>height</td>\n",
              "      <td>Height of the customer</td>\n",
              "    </tr>\n",
              "    <tr>\n",
              "      <th>5</th>\n",
              "      <td>hips</td>\n",
              "      <td>Size of the hips</td>\n",
              "    </tr>\n",
              "    <tr>\n",
              "      <th>6</th>\n",
              "      <td>item_id</td>\n",
              "      <td>Id number</td>\n",
              "    </tr>\n",
              "    <tr>\n",
              "      <th>7</th>\n",
              "      <td>length</td>\n",
              "      <td>Length of the cloth</td>\n",
              "    </tr>\n",
              "    <tr>\n",
              "      <th>8</th>\n",
              "      <td>quality</td>\n",
              "      <td>Rating given by customer</td>\n",
              "    </tr>\n",
              "    <tr>\n",
              "      <th>9</th>\n",
              "      <td>size</td>\n",
              "      <td>size of the cloth</td>\n",
              "    </tr>\n",
              "    <tr>\n",
              "      <th>10</th>\n",
              "      <td>userId</td>\n",
              "      <td>userID</td>\n",
              "    </tr>\n",
              "  </tbody>\n",
              "</table>\n",
              "</div>"
            ],
            "text/plain": [
              "     Feature                        Description\n",
              "0   bra_size                      integer value\n",
              "1   category   In which category clothes belong\n",
              "2   cup_size                  size of the cloth\n",
              "3        fit  Target variable (fit/large/small)\n",
              "4     height             Height of the customer\n",
              "5       hips                   Size of the hips\n",
              "6    item_id                          Id number\n",
              "7     length                Length of the cloth\n",
              "8    quality           Rating given by customer\n",
              "9       size                  size of the cloth\n",
              "10    userId                             userID"
            ]
          },
          "metadata": {
            "tags": []
          },
          "execution_count": 242
        }
      ]
    },
    {
      "cell_type": "markdown",
      "metadata": {
        "id": "rlcB67UqauTo"
      },
      "source": [
        "### Load the dataset\n"
      ]
    },
    {
      "cell_type": "code",
      "metadata": {
        "id": "TEvYENBSauTq"
      },
      "source": [
        "# read the dataset and extract the test  and train data separately\n",
        "df_train=pd.read_csv('/content/drive/MyDrive/Modelling_Customer_Feedback_Product_Recommendation/train.csv')\n",
        "df_test=pd.read_csv('/content/drive/MyDrive/Modelling_Customer_Feedback_Product_Recommendation/test.csv')\n",
        "\n",
        "#Dropping df_train Id column : train_id\n",
        "train_id = df_train['Id']\n",
        "df_train.drop(['Id'], axis=1, inplace=True)\n"
      ],
      "execution_count": 243,
      "outputs": []
    },
    {
      "cell_type": "code",
      "metadata": {
        "colab": {
          "base_uri": "https://localhost:8080/",
          "height": 487
        },
        "id": "tK4jwyCnc_Gx",
        "outputId": "daab0279-d98e-46ab-a110-955e78ad08a3"
      },
      "source": [
        "#First look at data\n",
        "df_train.head()"
      ],
      "execution_count": 244,
      "outputs": [
        {
          "output_type": "execute_result",
          "data": {
            "text/html": [
              "<div>\n",
              "<style scoped>\n",
              "    .dataframe tbody tr th:only-of-type {\n",
              "        vertical-align: middle;\n",
              "    }\n",
              "\n",
              "    .dataframe tbody tr th {\n",
              "        vertical-align: top;\n",
              "    }\n",
              "\n",
              "    .dataframe thead th {\n",
              "        text-align: right;\n",
              "    }\n",
              "</style>\n",
              "<table border=\"1\" class=\"dataframe\">\n",
              "  <thead>\n",
              "    <tr style=\"text-align: right;\">\n",
              "      <th></th>\n",
              "      <th>item_id</th>\n",
              "      <th>waist</th>\n",
              "      <th>size</th>\n",
              "      <th>quality</th>\n",
              "      <th>cup size</th>\n",
              "      <th>hips</th>\n",
              "      <th>bra size</th>\n",
              "      <th>category</th>\n",
              "      <th>bust</th>\n",
              "      <th>height</th>\n",
              "      <th>user_name</th>\n",
              "      <th>length</th>\n",
              "      <th>fit</th>\n",
              "      <th>user_id</th>\n",
              "      <th>shoe size</th>\n",
              "      <th>shoe width</th>\n",
              "      <th>review_summary</th>\n",
              "      <th>review_text</th>\n",
              "    </tr>\n",
              "  </thead>\n",
              "  <tbody>\n",
              "    <tr>\n",
              "      <th>0</th>\n",
              "      <td>136482</td>\n",
              "      <td>NaN</td>\n",
              "      <td>15</td>\n",
              "      <td>3.0</td>\n",
              "      <td>dd/e</td>\n",
              "      <td>36.0</td>\n",
              "      <td>36.0</td>\n",
              "      <td>new</td>\n",
              "      <td>NaN</td>\n",
              "      <td>5ft 4in</td>\n",
              "      <td>lakegirl74a</td>\n",
              "      <td>just right</td>\n",
              "      <td>fit</td>\n",
              "      <td>357490</td>\n",
              "      <td>NaN</td>\n",
              "      <td>NaN</td>\n",
              "      <td>NaN</td>\n",
              "      <td>NaN</td>\n",
              "    </tr>\n",
              "    <tr>\n",
              "      <th>1</th>\n",
              "      <td>723977</td>\n",
              "      <td>NaN</td>\n",
              "      <td>15</td>\n",
              "      <td>5.0</td>\n",
              "      <td>c</td>\n",
              "      <td>42.0</td>\n",
              "      <td>36.0</td>\n",
              "      <td>bottoms</td>\n",
              "      <td>NaN</td>\n",
              "      <td>5ft 8in</td>\n",
              "      <td>Ale</td>\n",
              "      <td>just right</td>\n",
              "      <td>fit</td>\n",
              "      <td>897280</td>\n",
              "      <td>NaN</td>\n",
              "      <td>NaN</td>\n",
              "      <td>Fit was perfect I can tuc</td>\n",
              "      <td>Fit was perfect I can tuck in a blouse comfort...</td>\n",
              "    </tr>\n",
              "    <tr>\n",
              "      <th>2</th>\n",
              "      <td>647551</td>\n",
              "      <td>NaN</td>\n",
              "      <td>8</td>\n",
              "      <td>4.0</td>\n",
              "      <td>b</td>\n",
              "      <td>36.0</td>\n",
              "      <td>34.0</td>\n",
              "      <td>tops</td>\n",
              "      <td>34</td>\n",
              "      <td>5ft 4in</td>\n",
              "      <td>Jessica</td>\n",
              "      <td>slightly short</td>\n",
              "      <td>large</td>\n",
              "      <td>279853</td>\n",
              "      <td>NaN</td>\n",
              "      <td>average</td>\n",
              "      <td>I wear the crap out of th</td>\n",
              "      <td>I wear the crap out of this. If I were to buy ...</td>\n",
              "    </tr>\n",
              "    <tr>\n",
              "      <th>3</th>\n",
              "      <td>404557</td>\n",
              "      <td>NaN</td>\n",
              "      <td>12</td>\n",
              "      <td>3.0</td>\n",
              "      <td>dd/e</td>\n",
              "      <td>44.0</td>\n",
              "      <td>32.0</td>\n",
              "      <td>new</td>\n",
              "      <td>NaN</td>\n",
              "      <td>5ft 5in</td>\n",
              "      <td>Patricia</td>\n",
              "      <td>slightly short</td>\n",
              "      <td>small</td>\n",
              "      <td>912482</td>\n",
              "      <td>NaN</td>\n",
              "      <td>NaN</td>\n",
              "      <td>This was cute but cut too</td>\n",
              "      <td>This was cute but cut too straight to fit over...</td>\n",
              "    </tr>\n",
              "    <tr>\n",
              "      <th>4</th>\n",
              "      <td>414857</td>\n",
              "      <td>NaN</td>\n",
              "      <td>15</td>\n",
              "      <td>3.0</td>\n",
              "      <td>d</td>\n",
              "      <td>38.0</td>\n",
              "      <td>38.0</td>\n",
              "      <td>new</td>\n",
              "      <td>NaN</td>\n",
              "      <td>5ft 9in</td>\n",
              "      <td>Carol</td>\n",
              "      <td>just right</td>\n",
              "      <td>fit</td>\n",
              "      <td>978354</td>\n",
              "      <td>NaN</td>\n",
              "      <td>NaN</td>\n",
              "      <td>Great fit, material is so</td>\n",
              "      <td>Great fit, material is soft and of good qualit...</td>\n",
              "    </tr>\n",
              "  </tbody>\n",
              "</table>\n",
              "</div>"
            ],
            "text/plain": [
              "   item_id  waist  size  quality cup size  hips  bra size category bust  \\\n",
              "0   136482    NaN    15      3.0     dd/e  36.0      36.0      new  NaN   \n",
              "1   723977    NaN    15      5.0        c  42.0      36.0  bottoms  NaN   \n",
              "2   647551    NaN     8      4.0        b  36.0      34.0     tops   34   \n",
              "3   404557    NaN    12      3.0     dd/e  44.0      32.0      new  NaN   \n",
              "4   414857    NaN    15      3.0        d  38.0      38.0      new  NaN   \n",
              "\n",
              "    height    user_name          length    fit  user_id  shoe size shoe width  \\\n",
              "0  5ft 4in  lakegirl74a      just right    fit   357490        NaN        NaN   \n",
              "1  5ft 8in          Ale      just right    fit   897280        NaN        NaN   \n",
              "2  5ft 4in      Jessica  slightly short  large   279853        NaN    average   \n",
              "3  5ft 5in     Patricia  slightly short  small   912482        NaN        NaN   \n",
              "4  5ft 9in        Carol      just right    fit   978354        NaN        NaN   \n",
              "\n",
              "              review_summary  \\\n",
              "0                        NaN   \n",
              "1  Fit was perfect I can tuc   \n",
              "2  I wear the crap out of th   \n",
              "3  This was cute but cut too   \n",
              "4  Great fit, material is so   \n",
              "\n",
              "                                         review_text  \n",
              "0                                                NaN  \n",
              "1  Fit was perfect I can tuck in a blouse comfort...  \n",
              "2  I wear the crap out of this. If I were to buy ...  \n",
              "3  This was cute but cut too straight to fit over...  \n",
              "4  Great fit, material is soft and of good qualit...  "
            ]
          },
          "metadata": {
            "tags": []
          },
          "execution_count": 244
        }
      ]
    },
    {
      "cell_type": "code",
      "metadata": {
        "colab": {
          "base_uri": "https://localhost:8080/"
        },
        "id": "dlktZpyMdCU-",
        "outputId": "381170c3-fc39-4dbb-a753-b4a4d23f90bf"
      },
      "source": [
        "# Data shape and columns\n",
        "print(df_train.shape)\n",
        "print(df_train.columns)"
      ],
      "execution_count": 245,
      "outputs": [
        {
          "output_type": "stream",
          "text": [
            "(66232, 18)\n",
            "Index(['item_id', 'waist', 'size', 'quality', 'cup size', 'hips', 'bra size',\n",
            "       'category', 'bust', 'height', 'user_name', 'length', 'fit', 'user_id',\n",
            "       'shoe size', 'shoe width', 'review_summary', 'review_text'],\n",
            "      dtype='object')\n"
          ],
          "name": "stdout"
        }
      ]
    },
    {
      "cell_type": "code",
      "metadata": {
        "colab": {
          "base_uri": "https://localhost:8080/"
        },
        "id": "WHq1qDhNdQpo",
        "outputId": "a6ae447e-0cf1-4d65-d570-376417384629"
      },
      "source": [
        "#Features Info\n",
        "df_train.info()"
      ],
      "execution_count": 247,
      "outputs": [
        {
          "output_type": "stream",
          "text": [
            "<class 'pandas.core.frame.DataFrame'>\n",
            "RangeIndex: 66232 entries, 0 to 66231\n",
            "Data columns (total 18 columns):\n",
            " #   Column          Non-Null Count  Dtype  \n",
            "---  ------          --------------  -----  \n",
            " 0   item_id         66232 non-null  int64  \n",
            " 1   waist           2319 non-null   float64\n",
            " 2   size            66232 non-null  int64  \n",
            " 3   quality         66178 non-null  float64\n",
            " 4   cup size        61280 non-null  object \n",
            " 5   hips            44900 non-null  float64\n",
            " 6   bra size        61480 non-null  float64\n",
            " 7   category        66232 non-null  object \n",
            " 8   bust            9458 non-null   object \n",
            " 9   height          65346 non-null  object \n",
            " 10  user_name       66232 non-null  object \n",
            " 11  length          66203 non-null  object \n",
            " 12  fit             66232 non-null  object \n",
            " 13  user_id         66232 non-null  int64  \n",
            " 14  shoe size       22314 non-null  float64\n",
            " 15  shoe width      14889 non-null  object \n",
            " 16  review_summary  60859 non-null  object \n",
            " 17  review_text     60859 non-null  object \n",
            "dtypes: float64(5), int64(3), object(10)\n",
            "memory usage: 9.1+ MB\n"
          ],
          "name": "stdout"
        }
      ]
    },
    {
      "cell_type": "code",
      "metadata": {
        "colab": {
          "base_uri": "https://localhost:8080/",
          "height": 300
        },
        "id": "uuGTURODdVWf",
        "outputId": "05ebfcd5-c28e-455f-c8f2-7c69518b15e3"
      },
      "source": [
        "# Describe data\n",
        "df_train.describe()"
      ],
      "execution_count": 248,
      "outputs": [
        {
          "output_type": "execute_result",
          "data": {
            "text/html": [
              "<div>\n",
              "<style scoped>\n",
              "    .dataframe tbody tr th:only-of-type {\n",
              "        vertical-align: middle;\n",
              "    }\n",
              "\n",
              "    .dataframe tbody tr th {\n",
              "        vertical-align: top;\n",
              "    }\n",
              "\n",
              "    .dataframe thead th {\n",
              "        text-align: right;\n",
              "    }\n",
              "</style>\n",
              "<table border=\"1\" class=\"dataframe\">\n",
              "  <thead>\n",
              "    <tr style=\"text-align: right;\">\n",
              "      <th></th>\n",
              "      <th>item_id</th>\n",
              "      <th>waist</th>\n",
              "      <th>size</th>\n",
              "      <th>quality</th>\n",
              "      <th>hips</th>\n",
              "      <th>bra size</th>\n",
              "      <th>user_id</th>\n",
              "      <th>shoe size</th>\n",
              "    </tr>\n",
              "  </thead>\n",
              "  <tbody>\n",
              "    <tr>\n",
              "      <th>count</th>\n",
              "      <td>66232.000000</td>\n",
              "      <td>2319.000000</td>\n",
              "      <td>66232.000000</td>\n",
              "      <td>66178.000000</td>\n",
              "      <td>44900.000000</td>\n",
              "      <td>61480.000000</td>\n",
              "      <td>66232.000000</td>\n",
              "      <td>22314.000000</td>\n",
              "    </tr>\n",
              "    <tr>\n",
              "      <th>mean</th>\n",
              "      <td>469609.885705</td>\n",
              "      <td>31.401897</td>\n",
              "      <td>12.683612</td>\n",
              "      <td>3.950890</td>\n",
              "      <td>40.366214</td>\n",
              "      <td>35.982563</td>\n",
              "      <td>499088.334204</td>\n",
              "      <td>8.147889</td>\n",
              "    </tr>\n",
              "    <tr>\n",
              "      <th>std</th>\n",
              "      <td>214195.473607</td>\n",
              "      <td>5.330146</td>\n",
              "      <td>8.287589</td>\n",
              "      <td>0.990964</td>\n",
              "      <td>5.831993</td>\n",
              "      <td>3.230949</td>\n",
              "      <td>286028.365379</td>\n",
              "      <td>1.338406</td>\n",
              "    </tr>\n",
              "    <tr>\n",
              "      <th>min</th>\n",
              "      <td>123373.000000</td>\n",
              "      <td>20.000000</td>\n",
              "      <td>0.000000</td>\n",
              "      <td>1.000000</td>\n",
              "      <td>30.000000</td>\n",
              "      <td>28.000000</td>\n",
              "      <td>6.000000</td>\n",
              "      <td>5.000000</td>\n",
              "    </tr>\n",
              "    <tr>\n",
              "      <th>25%</th>\n",
              "      <td>314980.000000</td>\n",
              "      <td>28.000000</td>\n",
              "      <td>8.000000</td>\n",
              "      <td>3.000000</td>\n",
              "      <td>36.000000</td>\n",
              "      <td>34.000000</td>\n",
              "      <td>253207.000000</td>\n",
              "      <td>7.000000</td>\n",
              "    </tr>\n",
              "    <tr>\n",
              "      <th>50%</th>\n",
              "      <td>454030.000000</td>\n",
              "      <td>30.000000</td>\n",
              "      <td>12.000000</td>\n",
              "      <td>4.000000</td>\n",
              "      <td>39.000000</td>\n",
              "      <td>36.000000</td>\n",
              "      <td>499049.000000</td>\n",
              "      <td>8.000000</td>\n",
              "    </tr>\n",
              "    <tr>\n",
              "      <th>75%</th>\n",
              "      <td>658440.000000</td>\n",
              "      <td>34.000000</td>\n",
              "      <td>15.000000</td>\n",
              "      <td>5.000000</td>\n",
              "      <td>43.000000</td>\n",
              "      <td>38.000000</td>\n",
              "      <td>744488.500000</td>\n",
              "      <td>9.000000</td>\n",
              "    </tr>\n",
              "    <tr>\n",
              "      <th>max</th>\n",
              "      <td>807722.000000</td>\n",
              "      <td>50.000000</td>\n",
              "      <td>38.000000</td>\n",
              "      <td>5.000000</td>\n",
              "      <td>60.000000</td>\n",
              "      <td>48.000000</td>\n",
              "      <td>999972.000000</td>\n",
              "      <td>38.000000</td>\n",
              "    </tr>\n",
              "  </tbody>\n",
              "</table>\n",
              "</div>"
            ],
            "text/plain": [
              "             item_id        waist          size       quality          hips  \\\n",
              "count   66232.000000  2319.000000  66232.000000  66178.000000  44900.000000   \n",
              "mean   469609.885705    31.401897     12.683612      3.950890     40.366214   \n",
              "std    214195.473607     5.330146      8.287589      0.990964      5.831993   \n",
              "min    123373.000000    20.000000      0.000000      1.000000     30.000000   \n",
              "25%    314980.000000    28.000000      8.000000      3.000000     36.000000   \n",
              "50%    454030.000000    30.000000     12.000000      4.000000     39.000000   \n",
              "75%    658440.000000    34.000000     15.000000      5.000000     43.000000   \n",
              "max    807722.000000    50.000000     38.000000      5.000000     60.000000   \n",
              "\n",
              "           bra size        user_id     shoe size  \n",
              "count  61480.000000   66232.000000  22314.000000  \n",
              "mean      35.982563  499088.334204      8.147889  \n",
              "std        3.230949  286028.365379      1.338406  \n",
              "min       28.000000       6.000000      5.000000  \n",
              "25%       34.000000  253207.000000      7.000000  \n",
              "50%       36.000000  499049.000000      8.000000  \n",
              "75%       38.000000  744488.500000      9.000000  \n",
              "max       48.000000  999972.000000     38.000000  "
            ]
          },
          "metadata": {
            "tags": []
          },
          "execution_count": 248
        }
      ]
    },
    {
      "cell_type": "code",
      "metadata": {
        "colab": {
          "base_uri": "https://localhost:8080/",
          "height": 175
        },
        "id": "uTPca69MdXkJ",
        "outputId": "6cec36a6-0b75-4c27-ab9c-b06be6ef18f8"
      },
      "source": [
        "#Describing categorical data - 'object'\n",
        "df_train.describe(include='object')"
      ],
      "execution_count": 249,
      "outputs": [
        {
          "output_type": "execute_result",
          "data": {
            "text/html": [
              "<div>\n",
              "<style scoped>\n",
              "    .dataframe tbody tr th:only-of-type {\n",
              "        vertical-align: middle;\n",
              "    }\n",
              "\n",
              "    .dataframe tbody tr th {\n",
              "        vertical-align: top;\n",
              "    }\n",
              "\n",
              "    .dataframe thead th {\n",
              "        text-align: right;\n",
              "    }\n",
              "</style>\n",
              "<table border=\"1\" class=\"dataframe\">\n",
              "  <thead>\n",
              "    <tr style=\"text-align: right;\">\n",
              "      <th></th>\n",
              "      <th>cup size</th>\n",
              "      <th>category</th>\n",
              "      <th>bust</th>\n",
              "      <th>height</th>\n",
              "      <th>user_name</th>\n",
              "      <th>length</th>\n",
              "      <th>fit</th>\n",
              "      <th>shoe width</th>\n",
              "      <th>review_summary</th>\n",
              "      <th>review_text</th>\n",
              "    </tr>\n",
              "  </thead>\n",
              "  <tbody>\n",
              "    <tr>\n",
              "      <th>count</th>\n",
              "      <td>61280</td>\n",
              "      <td>66232</td>\n",
              "      <td>9458.0</td>\n",
              "      <td>65346</td>\n",
              "      <td>66232</td>\n",
              "      <td>66203</td>\n",
              "      <td>66232</td>\n",
              "      <td>14889</td>\n",
              "      <td>60859</td>\n",
              "      <td>60859</td>\n",
              "    </tr>\n",
              "    <tr>\n",
              "      <th>unique</th>\n",
              "      <td>12</td>\n",
              "      <td>7</td>\n",
              "      <td>75.0</td>\n",
              "      <td>40</td>\n",
              "      <td>28094</td>\n",
              "      <td>5</td>\n",
              "      <td>3</td>\n",
              "      <td>3</td>\n",
              "      <td>50263</td>\n",
              "      <td>58851</td>\n",
              "    </tr>\n",
              "    <tr>\n",
              "      <th>top</th>\n",
              "      <td>c</td>\n",
              "      <td>new</td>\n",
              "      <td>36.0</td>\n",
              "      <td>5ft 6in</td>\n",
              "      <td>Sarah</td>\n",
              "      <td>just right</td>\n",
              "      <td>fit</td>\n",
              "      <td>average</td>\n",
              "      <td>Love it!</td>\n",
              "      <td>Love it!</td>\n",
              "    </tr>\n",
              "    <tr>\n",
              "      <th>freq</th>\n",
              "      <td>14779</td>\n",
              "      <td>17106</td>\n",
              "      <td>861.0</td>\n",
              "      <td>9592</td>\n",
              "      <td>582</td>\n",
              "      <td>49596</td>\n",
              "      <td>45414</td>\n",
              "      <td>10459</td>\n",
              "      <td>149</td>\n",
              "      <td>121</td>\n",
              "    </tr>\n",
              "  </tbody>\n",
              "</table>\n",
              "</div>"
            ],
            "text/plain": [
              "       cup size category    bust   height user_name      length    fit  \\\n",
              "count     61280    66232  9458.0    65346     66232       66203  66232   \n",
              "unique       12        7    75.0       40     28094           5      3   \n",
              "top           c      new    36.0  5ft 6in     Sarah  just right    fit   \n",
              "freq      14779    17106   861.0     9592       582       49596  45414   \n",
              "\n",
              "       shoe width review_summary review_text  \n",
              "count       14889          60859       60859  \n",
              "unique          3          50263       58851  \n",
              "top       average       Love it!    Love it!  \n",
              "freq        10459            149         121  "
            ]
          },
          "metadata": {
            "tags": []
          },
          "execution_count": 249
        }
      ]
    },
    {
      "cell_type": "code",
      "metadata": {
        "id": "XqTuwr8Y0MHL"
      },
      "source": [
        "# replace the space with _\n",
        "df_train.columns=df_train.columns.str.strip().str.lower().str.replace(' ', '_')\n",
        "df_test.columns=df_test.columns.str.strip().str.lower().str.replace(' ', '_')"
      ],
      "execution_count": 250,
      "outputs": []
    },
    {
      "cell_type": "code",
      "metadata": {
        "colab": {
          "base_uri": "https://localhost:8080/"
        },
        "id": "Z_lDgDef0Zv_",
        "outputId": "150f5544-d5ad-4928-ed2d-e300aa9e8f36"
      },
      "source": [
        "# Check the percentage of missing value\n",
        "missing_data = pd.DataFrame({'total_missing': df_train.isnull().sum(), 'perc_missing': (df_train.isnull().sum()/82790)*100})\n",
        "print(missing_data)"
      ],
      "execution_count": 251,
      "outputs": [
        {
          "output_type": "stream",
          "text": [
            "                total_missing  perc_missing\n",
            "item_id                     0      0.000000\n",
            "waist                   63913     77.198937\n",
            "size                        0      0.000000\n",
            "quality                    54      0.065225\n",
            "cup_size                 4952      5.981399\n",
            "hips                    21332     25.766397\n",
            "bra_size                 4752      5.739824\n",
            "category                    0      0.000000\n",
            "bust                    56774     68.575915\n",
            "height                    886      1.070178\n",
            "user_name                   0      0.000000\n",
            "length                     29      0.035028\n",
            "fit                         0      0.000000\n",
            "user_id                     0      0.000000\n",
            "shoe_size               43918     53.047470\n",
            "shoe_width              51343     62.015944\n",
            "review_summary           5373      6.489914\n",
            "review_text              5373      6.489914\n"
          ],
          "name": "stdout"
        }
      ]
    },
    {
      "cell_type": "code",
      "metadata": {
        "id": "bVho9eAE0puv"
      },
      "source": [
        "# drop the the columns\n",
        "df_train.drop(['waist', 'bust', 'user_name','review_text','review_summary','shoe_size','shoe_width'], axis=1, inplace=True)\n",
        "df_test.drop(['waist', 'bust', 'user_name','review_text','review_summary','shoe_size','shoe_width'], axis=1, inplace=True)"
      ],
      "execution_count": 252,
      "outputs": []
    },
    {
      "cell_type": "markdown",
      "metadata": {
        "id": "QcA7Izl1auTs"
      },
      "source": [
        "### Visualize and preprocess the data\n",
        "\n"
      ]
    },
    {
      "cell_type": "code",
      "metadata": {
        "id": "Xfixl_9e1IDu"
      },
      "source": [
        "#Function to plot bar graph\n",
        "def plot_barh(df,col, cmap = None, stacked=False, norm = None):\n",
        "    df.plot(kind='barh', colormap=cmap, stacked=stacked)\n",
        "    fig = plt.gcf()\n",
        "    fig.set_size_inches(24,12)\n",
        "    plt.title(\"Category vs {}-feedback -  cloth {}\".format(col, '(Normalized)' if norm else ''), fontsize= 20)\n",
        "    plt.ylabel('Category', fontsize = 18)\n",
        "    plot = plt.xlabel('Frequency', fontsize=18)"
      ],
      "execution_count": 253,
      "outputs": []
    },
    {
      "cell_type": "code",
      "metadata": {
        "colab": {
          "base_uri": "https://localhost:8080/",
          "height": 296
        },
        "id": "02__VtFJauTt",
        "outputId": "c9214506-2085-49fd-b2ed-3bc4a71c9263"
      },
      "source": [
        "#Target - fit\n",
        "sns.countplot(df_train['fit'])"
      ],
      "execution_count": 254,
      "outputs": [
        {
          "output_type": "execute_result",
          "data": {
            "text/plain": [
              "<matplotlib.axes._subplots.AxesSubplot at 0x7f5d80d40350>"
            ]
          },
          "metadata": {
            "tags": []
          },
          "execution_count": 254
        },
        {
          "output_type": "display_data",
          "data": {
            "image/png": "[encoded data removed]",
            "text/plain": [
              "<Figure size 432x288 with 1 Axes>"
            ]
          },
          "metadata": {
            "tags": [],
            "needs_background": "light"
          }
        }
      ]
    },
    {
      "cell_type": "code",
      "metadata": {
        "colab": {
          "base_uri": "https://localhost:8080/",
          "height": 642
        },
        "id": "5MatLHxS1BUC",
        "outputId": "ba45d0da-8677-49ec-9288-c908ce292bcd"
      },
      "source": [
        "#Category vs fit feedback\n",
        "\n",
        "g_by_category = df_train.groupby('category')\n",
        "cat_fit = g_by_category['fit'].value_counts()\n",
        "cat_fit = cat_fit.unstack()\n",
        "plot_barh(cat_fit, 'fit')"
      ],
      "execution_count": 255,
      "outputs": [
        {
          "output_type": "display_data",
          "data": {
            "image/png": "[encoded data removed]",
            "text/plain": [
              "<Figure size 1728x864 with 1 Axes>"
            ]
          },
          "metadata": {
            "tags": [],
            "needs_background": "light"
          }
        }
      ]
    },
    {
      "cell_type": "code",
      "metadata": {
        "colab": {
          "base_uri": "https://localhost:8080/",
          "height": 647
        },
        "id": "LdIctjuI1mDx",
        "outputId": "a012db2b-27e0-468d-a3ed-3c0d88394989"
      },
      "source": [
        "#Category vs Length\n",
        "\n",
        "cat_len = g_by_category['length'].value_counts()\n",
        "cat_len = cat_len.unstack()\n",
        "plot_barh(cat_len, 'length')\n",
        "\n",
        "#Most tops, dresses, new have just right length"
      ],
      "execution_count": 256,
      "outputs": [
        {
          "output_type": "display_data",
          "data": {
            "image/png": "[encoded data removed]",
            "text/plain": [
              "<Figure size 1728x864 with 1 Axes>"
            ]
          },
          "metadata": {
            "tags": [],
            "needs_background": "light"
          }
        }
      ]
    },
    {
      "cell_type": "code",
      "metadata": {
        "id": "f3ehyWEE10vM"
      },
      "source": [
        "# function to to convert feet to inches\n",
        "\n",
        "def get_cms(x):\n",
        "    if type(x) == type(1.0):\n",
        "        return\n",
        "    #print(x)\n",
        "    try: \n",
        "        return (int(x[0])*30.48) + (int(x[4:-2])*2.54)\n",
        "    except:\n",
        "        return (int(x[0])*30.48)\n",
        "\n",
        "# apply on train data    \n",
        "df_train.height = df_train.height.apply(get_cms)\n",
        "\n",
        "# apply on testing set\n",
        "df_test.height = df_test.height.apply(get_cms)"
      ],
      "execution_count": 257,
      "outputs": []
    },
    {
      "cell_type": "code",
      "metadata": {
        "colab": {
          "base_uri": "https://localhost:8080/"
        },
        "id": "vAGAUk7-GMHb",
        "outputId": "91289318-99fe-41c1-f1b2-31fe5249d9eb"
      },
      "source": [
        "#Missing values\n",
        "print(df_train.isnull().sum())"
      ],
      "execution_count": 258,
      "outputs": [
        {
          "output_type": "stream",
          "text": [
            "item_id         0\n",
            "size            0\n",
            "quality        54\n",
            "cup_size     4952\n",
            "hips        21332\n",
            "bra_size     4752\n",
            "category        0\n",
            "height        886\n",
            "length         29\n",
            "fit             0\n",
            "user_id         0\n",
            "dtype: int64\n"
          ],
          "name": "stdout"
        }
      ]
    },
    {
      "cell_type": "code",
      "metadata": {
        "colab": {
          "base_uri": "https://localhost:8080/"
        },
        "id": "xAjoSLlZ8GnP",
        "outputId": "360f7205-21a1-49e9-96b1-6810318cabdf"
      },
      "source": [
        "#Missing values imputation\n",
        "\n",
        "# drop missing values\n",
        "#df_train.dropna(subset=['height','length','quality'],inplace=True)\n",
        "#df_test.dropna(subset=['height','length','quality'],inplace=True)\n",
        "\n",
        "#Imputing missing values with median\n",
        "df_train['height'].fillna((df_train['height'].median()), inplace=True)\n",
        "df_test['height'].fillna((df_test['height'].median()), inplace=True)\n",
        "\n",
        "\n",
        "\n",
        "df_train['quality'].fillna((df_train['quality'].median()), inplace=True)\n",
        "df_test['quality'].fillna((df_test['quality'].median()), inplace=True)\n",
        "\n",
        "# fill missing values with mean\n",
        "df_train['bra_size'].fillna((df_train['bra_size'].mean()), inplace=True)\n",
        "df_test['bra_size'].fillna((df_test['bra_size'].mean()), inplace=True)\n",
        "\n",
        "df_train['hips'].fillna((df_train['hips'].mean()), inplace=True)\n",
        "df_test['hips'].fillna((df_test['hips'].mean()), inplace=True)\n",
        "\n",
        "# fill missing value with mode\n",
        "mode_1 = df_train['cup_size'].mode()[0]\n",
        "mode_2 = df_test['cup_size'].mode()[0]\n",
        "df_train['cup_size']=df_train['cup_size'].replace(np.nan,mode_1)\n",
        "df_test['cup_size']=df_test['cup_size'].replace(np.nan,mode_2)\n",
        "\n",
        "mode_l1 = df_train['length'].mode()[0]\n",
        "mode_l2 = df_test['length'].mode()[0]\n",
        "df_train['length']=df_train['length'].replace(np.nan,mode_l1)\n",
        "df_test['length']=df_test['length'].replace(np.nan,mode_l2)\n",
        "\n",
        "print(df_train.isnull().sum())"
      ],
      "execution_count": 259,
      "outputs": [
        {
          "output_type": "stream",
          "text": [
            "item_id     0\n",
            "size        0\n",
            "quality     0\n",
            "cup_size    0\n",
            "hips        0\n",
            "bra_size    0\n",
            "category    0\n",
            "height      0\n",
            "length      0\n",
            "fit         0\n",
            "user_id     0\n",
            "dtype: int64\n"
          ],
          "name": "stdout"
        }
      ]
    },
    {
      "cell_type": "code",
      "metadata": {
        "id": "RLH75yLK8jN_"
      },
      "source": [
        "# one hot encoding\n",
        "df_train=pd.get_dummies(data=df_train,columns=[\"category\", \"cup_size\",\"length\"],prefix=[\"category\", \"cup_size\",\"length\"])\n",
        "df_test=pd.get_dummies(data=df_test,columns=[\"category\", \"cup_size\",\"length\"],prefix=[\"category\", \"cup_size\",\"length\"])"
      ],
      "execution_count": 260,
      "outputs": []
    },
    {
      "cell_type": "markdown",
      "metadata": {
        "id": "aaJrydxvauTw"
      },
      "source": [
        "### Model building\n"
      ]
    },
    {
      "cell_type": "code",
      "metadata": {
        "id": "7zWcGs1IauTx",
        "colab": {
          "base_uri": "https://localhost:8080/"
        },
        "outputId": "28ad11ff-3de9-4058-f0d4-7920cea65c40"
      },
      "source": [
        "#Splitting training set\n",
        "\n",
        "y=df_train['fit']\n",
        "X=df_train.drop(['fit'],axis=1)\n",
        "\n",
        "print(X.head())\n",
        "print(y.head())\n",
        "\n",
        "\n",
        "#we split 75% of the data to training set while 25% of the data to validation \n",
        "X_train, X_valid, y_train, y_valid = train_test_split(X, y, test_size=0.25, random_state=0)\n",
        "\n",
        "#X_train, X_valid shape\n",
        "print(X_train.shape)\n",
        "print(X_valid.shape)"
      ],
      "execution_count": 261,
      "outputs": [
        {
          "output_type": "stream",
          "text": [
            "   item_id  size  quality  hips  bra_size  height  user_id  category_bottoms  \\\n",
            "0   136482    15      3.0  36.0      36.0  162.56   357490                 0   \n",
            "1   723977    15      5.0  42.0      36.0  172.72   897280                 1   \n",
            "2   647551     8      4.0  36.0      34.0  162.56   279853                 0   \n",
            "3   404557    12      3.0  44.0      32.0  165.10   912482                 0   \n",
            "4   414857    15      3.0  38.0      38.0  175.26   978354                 0   \n",
            "\n",
            "   category_dresses  category_new  category_outerwear  category_sale  \\\n",
            "0                 0             1                   0              0   \n",
            "1                 0             0                   0              0   \n",
            "2                 0             0                   0              0   \n",
            "3                 0             1                   0              0   \n",
            "4                 0             1                   0              0   \n",
            "\n",
            "   category_tops  category_wedding  cup_size_a  cup_size_aa  cup_size_b  \\\n",
            "0              0                 0           0            0           0   \n",
            "1              0                 0           0            0           0   \n",
            "2              1                 0           0            0           1   \n",
            "3              0                 0           0            0           0   \n",
            "4              0                 0           0            0           0   \n",
            "\n",
            "   cup_size_c  cup_size_d  cup_size_dd/e  cup_size_ddd/f  cup_size_dddd/g  \\\n",
            "0           0           0              1               0                0   \n",
            "1           1           0              0               0                0   \n",
            "2           0           0              0               0                0   \n",
            "3           0           0              1               0                0   \n",
            "4           0           1              0               0                0   \n",
            "\n",
            "   cup_size_h  cup_size_i  cup_size_j  cup_size_k  length_just right  \\\n",
            "0           0           0           0           0                  1   \n",
            "1           0           0           0           0                  1   \n",
            "2           0           0           0           0                  0   \n",
            "3           0           0           0           0                  0   \n",
            "4           0           0           0           0                  1   \n",
            "\n",
            "   length_slightly long  length_slightly short  length_very long  \\\n",
            "0                     0                      0                 0   \n",
            "1                     0                      0                 0   \n",
            "2                     0                      1                 0   \n",
            "3                     0                      1                 0   \n",
            "4                     0                      0                 0   \n",
            "\n",
            "   length_very short  \n",
            "0                  0  \n",
            "1                  0  \n",
            "2                  0  \n",
            "3                  0  \n",
            "4                  0  \n",
            "0      fit\n",
            "1      fit\n",
            "2    large\n",
            "3    small\n",
            "4      fit\n",
            "Name: fit, dtype: object\n",
            "(49674, 31)\n",
            "(16558, 31)\n"
          ],
          "name": "stdout"
        }
      ]
    },
    {
      "cell_type": "code",
      "metadata": {
        "colab": {
          "base_uri": "https://localhost:8080/"
        },
        "id": "2zcxwJhX9d-E",
        "outputId": "5bbe8be2-8345-49de-92d7-fab7096018f3"
      },
      "source": [
        "# Defining the decision tree algorithm\n",
        "\n",
        "dtree=DecisionTreeClassifier(criterion='gini', max_depth = 5, min_samples_leaf=100 , random_state=42 )\n",
        "dtree.fit(X_train,y_train)\n",
        "\n",
        "# Predicting the values of validation data\n",
        "y_dtree_pred = dtree.predict(X_valid)\n",
        "print(\"Classification report - \\n\", classification_report(y_valid,y_dtree_pred))\n",
        "\n",
        "#accuracy_score\n",
        "accuracy_score(y_valid,y_dtree_pred)"
      ],
      "execution_count": 262,
      "outputs": [
        {
          "output_type": "stream",
          "text": [
            "Classification report - \n",
            "               precision    recall  f1-score   support\n",
            "\n",
            "         fit       0.71      0.97      0.82     11480\n",
            "       large       0.56      0.09      0.15      2486\n",
            "       small       0.50      0.10      0.17      2592\n",
            "\n",
            "    accuracy                           0.70     16558\n",
            "   macro avg       0.59      0.39      0.38     16558\n",
            "weighted avg       0.66      0.70      0.62     16558\n",
            "\n"
          ],
          "name": "stdout"
        },
        {
          "output_type": "execute_result",
          "data": {
            "text/plain": [
              "0.701111245319483"
            ]
          },
          "metadata": {
            "tags": []
          },
          "execution_count": 262
        }
      ]
    },
    {
      "cell_type": "code",
      "metadata": {
        "colab": {
          "base_uri": "https://localhost:8080/"
        },
        "id": "XtnRd-ca-Tai",
        "outputId": "7eff9631-c8b4-4f7b-8828-afde72675aba"
      },
      "source": [
        "# parameters for grid search (using best_param)\n",
        "parameters = {'max_depth':[5, 7, 9, 15, 20],'criterion':['gini','entropy'],'min_samples_leaf':[200, 210, 250, 300]}\n",
        "\n",
        "# Decision tree classifier model\n",
        "model=DecisionTreeClassifier(random_state=6)\n",
        "\n",
        "# grid search on decision tree classifier\n",
        "grid = GridSearchCV(estimator=model, param_grid=parameters, cv=3, n_jobs=-1, verbose=5)\n",
        "grid.fit(X_train, y_train)\n",
        "\n",
        "# Predicting the values of validation data\n",
        "y_grid_pred = grid.predict(X_valid)\n",
        "print(\"Classification report - \\n\", classification_report(y_valid,y_grid_pred))\n",
        "\n",
        "#accuracy_score\n",
        "accuracy_score(y_valid,y_grid_pred)"
      ],
      "execution_count": 264,
      "outputs": [
        {
          "output_type": "stream",
          "text": [
            "Fitting 3 folds for each of 40 candidates, totalling 120 fits\n"
          ],
          "name": "stdout"
        },
        {
          "output_type": "stream",
          "text": [
            "[Parallel(n_jobs=-1)]: Using backend LokyBackend with 2 concurrent workers.\n",
            "[Parallel(n_jobs=-1)]: Done  14 tasks      | elapsed:    2.3s\n",
            "[Parallel(n_jobs=-1)]: Done  68 tasks      | elapsed:   12.0s\n",
            "[Parallel(n_jobs=-1)]: Done 120 out of 120 | elapsed:   23.0s finished\n"
          ],
          "name": "stderr"
        },
        {
          "output_type": "stream",
          "text": [
            "Classification report - \n",
            "               precision    recall  f1-score   support\n",
            "\n",
            "         fit       0.72      0.96      0.82     11480\n",
            "       large       0.54      0.19      0.28      2486\n",
            "       small       0.54      0.09      0.16      2592\n",
            "\n",
            "    accuracy                           0.71     16558\n",
            "   macro avg       0.60      0.41      0.42     16558\n",
            "weighted avg       0.66      0.71      0.64     16558\n",
            "\n"
          ],
          "name": "stdout"
        },
        {
          "output_type": "execute_result",
          "data": {
            "text/plain": [
              "0.7060635342432661"
            ]
          },
          "metadata": {
            "tags": []
          },
          "execution_count": 264
        }
      ]
    },
    {
      "cell_type": "code",
      "metadata": {
        "colab": {
          "base_uri": "https://localhost:8080/"
        },
        "id": "xuSLy9cTBUIN",
        "outputId": "fbf5dbde-eec6-4f1b-9515-92604df24ac0"
      },
      "source": [
        "#Best parameters dtree\n",
        "grid.best_params_"
      ],
      "execution_count": 265,
      "outputs": [
        {
          "output_type": "execute_result",
          "data": {
            "text/plain": [
              "{'criterion': 'gini', 'max_depth': 15, 'min_samples_leaf': 250}"
            ]
          },
          "metadata": {
            "tags": []
          },
          "execution_count": 265
        }
      ]
    },
    {
      "cell_type": "markdown",
      "metadata": {
        "id": "rrkVlj82auT0"
      },
      "source": [
        "### Prediction on the test data and creating the submission file.\n"
      ]
    },
    {
      "cell_type": "code",
      "metadata": {
        "id": "qtvHFwImauT2",
        "colab": {
          "base_uri": "https://localhost:8080/"
        },
        "outputId": "a0090d21-afad-4132-92e4-7c69a2fce516"
      },
      "source": [
        "#the id column in a separate variable : test_id\n",
        "\n",
        "test_id = df_test['id']\n",
        "df_test.drop(['id'], axis=1, inplace=True) \n",
        "\n",
        "\n",
        "#Test data shape and columns names\n",
        "print(df_test.shape)\n",
        "print(df_test.columns)"
      ],
      "execution_count": 266,
      "outputs": [
        {
          "output_type": "stream",
          "text": [
            "(16558, 31)\n",
            "Index(['item_id', 'size', 'quality', 'hips', 'bra_size', 'height', 'user_id',\n",
            "       'category_bottoms', 'category_dresses', 'category_new',\n",
            "       'category_outerwear', 'category_sale', 'category_tops',\n",
            "       'category_wedding', 'cup_size_a', 'cup_size_aa', 'cup_size_b',\n",
            "       'cup_size_c', 'cup_size_d', 'cup_size_dd/e', 'cup_size_ddd/f',\n",
            "       'cup_size_dddd/g', 'cup_size_h', 'cup_size_i', 'cup_size_j',\n",
            "       'cup_size_k', 'length_just right', 'length_slightly long',\n",
            "       'length_slightly short', 'length_very long', 'length_very short'],\n",
            "      dtype='object')\n"
          ],
          "name": "stdout"
        }
      ]
    },
    {
      "cell_type": "code",
      "metadata": {
        "colab": {
          "base_uri": "https://localhost:8080/"
        },
        "id": "FKpzu18dCZi0",
        "outputId": "00369d3b-c76c-4dc6-b0bf-3d05671135dc"
      },
      "source": [
        "#make prediction : fit\n",
        "y_test_pred = grid.predict(df_test)\n",
        "\n",
        "#Making df for submission\n",
        "subm=pd.DataFrame({\"Id\": test_id,\"fit\": y_test_pred})\n",
        "print(subm.head())"
      ],
      "execution_count": 267,
      "outputs": [
        {
          "output_type": "stream",
          "text": [
            "      Id  fit\n",
            "0  36962  fit\n",
            "1  24517  fit\n",
            "2  46688  fit\n",
            "3  14851  fit\n",
            "4   8526  fit\n"
          ],
          "name": "stdout"
        }
      ]
    },
    {
      "cell_type": "code",
      "metadata": {
        "id": "80kT9R6zCi0C"
      },
      "source": [
        "# To CSV for submission\n",
        "subm.to_csv('fit.csv',index=False)\n",
        "\n",
        "#from google.colab import files\n",
        "#files.download('fit.csv') "
      ],
      "execution_count": 269,
      "outputs": []
    }
  ]
}